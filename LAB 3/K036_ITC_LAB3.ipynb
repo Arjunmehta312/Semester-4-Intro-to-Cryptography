{
 "cells": [
  {
   "cell_type": "markdown",
   "id": "1ec40c11",
   "metadata": {},
   "source": [
    "# INTRODUCTION TO CRYPTOGRAPHY LAB 3"
   ]
  },
  {
   "cell_type": "markdown",
   "id": "fe0b535a",
   "metadata": {},
   "source": [
    "## Arjun Mehta\n",
    "## K036\n",
    "## B. Tech CSE(Cybersecurity)"
   ]
  },
  {
   "cell_type": "code",
   "execution_count": 17,
   "id": "43ca8e29",
   "metadata": {},
   "outputs": [
    {
     "name": "stdout",
     "output_type": "stream",
     "text": [
      "Enter plaintext: HELLO\n",
      "Enter first integer: 1\n",
      "Enter second integer: 19\n"
     ]
    }
   ],
   "source": [
    "def mod_inverse(a,m):\n",
    "    for x in range(1,m):\n",
    "        if (a*x)%m==1:\n",
    "            return x\n",
    "    return None\n",
    "\n",
    "plaintext = input(\"Enter plaintext: \")\n",
    "a = int(input(\"Enter first integer: \"))\n",
    "b = int(input(\"Enter second integer: \"))"
   ]
  },
  {
   "cell_type": "code",
   "execution_count": 18,
   "id": "21647388",
   "metadata": {},
   "outputs": [
    {
     "name": "stdout",
     "output_type": "stream",
     "text": [
      "Encrypted Text: AXEEH\n"
     ]
    }
   ],
   "source": [
    "def affine_encrypt(plaintext,a,b):\n",
    "    return ''.join(chr(((a*(ord(char)-ord('A'))+b)%26)+ord('A')) if char.isalpha() else char for char in plaintext.upper())\n",
    "\n",
    "ciphertext = affine_encrypt(plaintext, a, b)\n",
    "print(f\"Encrypted Text: {ciphertext}\")"
   ]
  },
  {
   "cell_type": "code",
   "execution_count": 19,
   "id": "f8525e59",
   "metadata": {},
   "outputs": [
    {
     "name": "stdout",
     "output_type": "stream",
     "text": [
      "Decrypted Text: HELLO\n"
     ]
    }
   ],
   "source": [
    "def affine_decrypt(ciphertext, a, b):\n",
    "    a_inv = mod_inverse(a, 26)\n",
    "    return ''.join(chr((a_inv*((ord(char)-ord('A'))-b)%26)+ord('A')) if char.isalpha() else char for char in ciphertext.upper())\n",
    "\n",
    "decrypted_text = affine_decrypt(ciphertext, a, b)\n",
    "print(f\"Decrypted Text: {decrypted_text}\")"
   ]
  },
  {
   "cell_type": "code",
   "execution_count": null,
   "id": "62617fa8",
   "metadata": {},
   "outputs": [],
   "source": []
  }
 ],
 "metadata": {
  "kernelspec": {
   "display_name": "Python 3 (ipykernel)",
   "language": "python",
   "name": "python3"
  },
  "language_info": {
   "codemirror_mode": {
    "name": "ipython",
    "version": 3
   },
   "file_extension": ".py",
   "mimetype": "text/x-python",
   "name": "python",
   "nbconvert_exporter": "python",
   "pygments_lexer": "ipython3",
   "version": "3.9.7"
  }
 },
 "nbformat": 4,
 "nbformat_minor": 5
}
