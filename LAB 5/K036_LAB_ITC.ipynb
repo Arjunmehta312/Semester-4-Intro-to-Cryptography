{
 "cells": [
  {
   "cell_type": "markdown",
   "id": "fa021fb1",
   "metadata": {},
   "source": [
    "## INTRODUCTION TO CRYPTOGRAPHY LAB 5\n",
    "## Arjun Mehta\n",
    "## K036\n",
    "## B. Tech CSE(Cybersecurity)"
   ]
  },
  {
   "cell_type": "code",
   "execution_count": 6,
   "id": "fa3b80ee",
   "metadata": {},
   "outputs": [
    {
     "name": "stdout",
     "output_type": "stream",
     "text": [
      "Enter a prime number p: 5\n",
      "Enter a base g (primitive root of p): 2\n",
      "Alice sends A = 4 to Bob\n",
      "Bob sends B = 3 to Alice\n",
      "Alice computes the shared secret: 4\n",
      "Bob computes the shared secret: 4\n",
      "Shared secret key exchange successful!\n",
      "[2]\n",
      "[2, 4]\n",
      "[2, 4, 3]\n",
      "[2, 4, 3, 1]\n"
     ]
    }
   ],
   "source": [
    "# Diffie-Hellman Key Exchange Implementation with user input and detailed output\n",
    "\n",
    "def mod_exp(base, exp, mod):\n",
    "    if exp == 0:\n",
    "        return 1\n",
    "    half_exp = mod_exp(base, exp // 2, mod)\n",
    "    half_exp = (half_exp * half_exp) % mod\n",
    "    if exp % 2 != 0:\n",
    "        half_exp = (half_exp * base) % mod\n",
    "    return half_exp\n",
    "\n",
    "def is_primitive_root(g, p):\n",
    "    required_set = set(num for num in range(1, p) if gcd(num, p) == 1)\n",
    "    actual_set = set(mod_exp(g, powers, p) for powers in range(1, p))\n",
    "    return required_set == actual_set\n",
    "\n",
    "def gcd(a, b):\n",
    "    while b:\n",
    "        a, b = b, a % b\n",
    "    return a\n",
    "\n",
    "p = int(input(\"Enter a prime number p: \"))\n",
    "g = int(input(\"Enter a base g (primitive root of p): \"))\n",
    "\n",
    "if not is_primitive_root(g, p):\n",
    "    print(f\"{g} is not a primitive root of {p}. Please choose another base.\")\n",
    "    exit()\n",
    "\n",
    "a = 6\n",
    "A = mod_exp(g, a, p)\n",
    "print(f\"Alice sends A = {A} to Bob\")\n",
    "\n",
    "b = 15\n",
    "B = mod_exp(g, b, p)\n",
    "print(f\"Bob sends B = {B} to Alice\")\n",
    "\n",
    "shared_secret_Alice = mod_exp(B, a, p)\n",
    "print(f\"Alice computes the shared secret: {shared_secret_Alice}\")\n",
    "\n",
    "shared_secret_Bob = mod_exp(A, b, p)\n",
    "print(f\"Bob computes the shared secret: {shared_secret_Bob}\")\n",
    "\n",
    "assert shared_secret_Alice == shared_secret_Bob, \"Shared secrets do not match!\"\n",
    "print(\"Shared secret key exchange successful!\")\n",
    "\n",
    "output_list = []\n",
    "elements = [2, 4, 3, 1]\n",
    "\n",
    "for element in elements:\n",
    "    output_list.append(element)\n",
    "    print(output_list)"
   ]
  }
 ],
 "metadata": {
  "kernelspec": {
   "display_name": "Python 3 (ipykernel)",
   "language": "python",
   "name": "python3"
  },
  "language_info": {
   "codemirror_mode": {
    "name": "ipython",
    "version": 3
   },
   "file_extension": ".py",
   "mimetype": "text/x-python",
   "name": "python",
   "nbconvert_exporter": "python",
   "pygments_lexer": "ipython3",
   "version": "3.9.7"
  }
 },
 "nbformat": 4,
 "nbformat_minor": 5
}
