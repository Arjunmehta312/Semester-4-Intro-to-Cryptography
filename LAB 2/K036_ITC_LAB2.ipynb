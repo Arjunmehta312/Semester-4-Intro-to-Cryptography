{
 "cells": [
  {
   "cell_type": "markdown",
   "id": "14298d06",
   "metadata": {},
   "source": [
    "# INTRODUCTION TO CRYPTOGRAPHY LAB 1"
   ]
  },
  {
   "cell_type": "markdown",
   "id": "391ed0ea",
   "metadata": {},
   "source": [
    "## Arjun Mehta\n",
    "## K036\n",
    "## B. Tech CSE(Cybersecurity)"
   ]
  },
  {
   "cell_type": "code",
   "execution_count": 12,
   "id": "83e405c1",
   "metadata": {},
   "outputs": [
    {
     "name": "stdout",
     "output_type": "stream",
     "text": [
      "Enter plain text: Arjun Mehta\n",
      "Enter key: cyber\n",
      "Ciphertext is: CPKYE KFLKC\n"
     ]
    }
   ],
   "source": [
    "#Encryption\n",
    "\n",
    "plaintext=input(\"Enter plain text: \")\n",
    "keyword=input(\"Enter key: \")\n",
    "\n",
    "key=(keyword*(len(plaintext)//len(keyword)))+keyword[:len(plaintext) % len(keyword)]\n",
    "\n",
    "ciphertext=\"\"\n",
    "\n",
    "for i in range(len(plaintext)):\n",
    "    p=plaintext[i]\n",
    "    if p==' ':\n",
    "        ciphertext+=' '\n",
    "    else:\n",
    "        k=key[i]\n",
    "        p_val=ord(p.upper())-ord('A')\n",
    "        k_val=ord(k.upper())-ord('A')\n",
    "        encrypted_val=(p_val+k_val) % 26\n",
    "        encrypted_char=chr(encrypted_val+ord('A'))\n",
    "        ciphertext+=encrypted_char\n",
    "\n",
    "print(f\"Ciphertext is: {ciphertext}\")"
   ]
  },
  {
   "cell_type": "code",
   "execution_count": 13,
   "id": "8dbb1fb9",
   "metadata": {},
   "outputs": [
    {
     "name": "stdout",
     "output_type": "stream",
     "text": [
      "Enter cipher to be decrypted: CPKYE KFLKC\n",
      "Enter key: cyber\n",
      "Decrypted Text: ARJUN MEHTA\n"
     ]
    }
   ],
   "source": [
    "#Decryption\n",
    "\n",
    "ciphertext=input(\"Enter cipher to be decrypted: \")\n",
    "keyword=input(\"Enter key: \")\n",
    "\n",
    "key=(keyword*(len(ciphertext)//len(keyword)))+keyword[:len(ciphertext)%len(keyword)]\n",
    "\n",
    "plaintext=\"\"\n",
    "\n",
    "for i in range(len(ciphertext)):\n",
    "    c=ciphertext[i]\n",
    "    if c==' ':\n",
    "        plaintext+=' '\n",
    "    else:\n",
    "        k=key[i]\n",
    "        c_val=ord(c.upper())-ord('A')\n",
    "        k_val=ord(k.upper())-ord('A')\n",
    "        decrypted_val=(c_val-k_val+26)%26\n",
    "        decrypted_char=chr(decrypted_val+ord('A'))\n",
    "        plaintext+=decrypted_char\n",
    "\n",
    "print(f\"Decrypted Text: {plaintext}\")"
   ]
  }
 ],
 "metadata": {
  "kernelspec": {
   "display_name": "Python 3 (ipykernel)",
   "language": "python",
   "name": "python3"
  },
  "language_info": {
   "codemirror_mode": {
    "name": "ipython",
    "version": 3
   },
   "file_extension": ".py",
   "mimetype": "text/x-python",
   "name": "python",
   "nbconvert_exporter": "python",
   "pygments_lexer": "ipython3",
   "version": "3.9.12"
  }
 },
 "nbformat": 4,
 "nbformat_minor": 5
}
