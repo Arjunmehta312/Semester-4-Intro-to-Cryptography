{
 "cells": [
  {
   "cell_type": "markdown",
   "id": "b5080466",
   "metadata": {},
   "source": [
    "# INTRODUCTION TO CRYPTOGRAPHY LAB 4\n",
    "\n",
    "## Arjun Mehta\n",
    "## K036\n",
    "## B. Tech CSE(Cybersecurity)"
   ]
  },
  {
   "cell_type": "code",
   "execution_count": 7,
   "id": "78f4d602",
   "metadata": {},
   "outputs": [],
   "source": [
    "import numpy as np"
   ]
  },
  {
   "cell_type": "code",
   "execution_count": 8,
   "id": "80620d05",
   "metadata": {},
   "outputs": [],
   "source": [
    "# Function to convert a letter to its corresponding number\n",
    "def letter_to_number(letter):\n",
    "    return ord(letter) - ord('A')\n",
    "\n",
    "# Function to convert a number to its corresponding letter\n",
    "def number_to_letter(number):\n",
    "    return chr(number + ord('A'))"
   ]
  },
  {
   "cell_type": "code",
   "execution_count": 9,
   "id": "917b8959",
   "metadata": {},
   "outputs": [],
   "source": [
    "# Function to find the modular inverse of a number modulo 26\n",
    "def mod_inverse(a, m):\n",
    "    for x in range(1, m):\n",
    "        if (a * x) % m == 1:\n",
    "            return x\n",
    "    return -1\n",
    "\n",
    "# Function to find the inverse of a 2x2 matrix modulo 26\n",
    "def matrix_inverse_2x2(matrix):\n",
    "    det = int(np.round(np.linalg.det(matrix))) % 26\n",
    "    det_inv = mod_inverse(det, 26)\n",
    "    if det_inv == -1:\n",
    "        raise ValueError(\"Matrix is not invertible\")\n",
    "\n",
    "    adjugate_matrix = np.array([[matrix[1, 1], -matrix[0, 1]],\n",
    "                                [-matrix[1, 0], matrix[0, 0]]]) % 26\n",
    "    inverse_matrix = (det_inv * adjugate_matrix) % 26\n",
    "    return inverse_matrix\n",
    "\n",
    "# Function to check if the key matrix is invertible\n",
    "def is_invertible(matrix):\n",
    "    try:\n",
    "        matrix_inverse_2x2(matrix)\n",
    "        return True\n",
    "    except ValueError:\n",
    "        return False"
   ]
  },
  {
   "cell_type": "code",
   "execution_count": 10,
   "id": "14c1f1bd",
   "metadata": {},
   "outputs": [],
   "source": [
    "# Function to encrypt a block using the Hill cipher\n",
    "def hill_encrypt_block(block, key_matrix):\n",
    "    block_vector = np.array([letter_to_number(char) for char in block])\n",
    "    encrypted_vector = np.dot(key_matrix, block_vector) % 26\n",
    "    return ''.join(number_to_letter(num) for num in encrypted_vector)\n",
    "\n",
    "# Function to decrypt a block using the Hill cipher\n",
    "def hill_decrypt_block(block, key_matrix):\n",
    "    inverse_key_matrix = matrix_inverse_2x2(key_matrix)\n",
    "    block_vector = np.array([letter_to_number(char) for char in block])\n",
    "    decrypted_vector = np.dot(inverse_key_matrix, block_vector) % 26\n",
    "    return ''.join(number_to_letter(num) for num in decrypted_vector)"
   ]
  },
  {
   "cell_type": "code",
   "execution_count": 11,
   "id": "91055b8b",
   "metadata": {},
   "outputs": [],
   "source": [
    "# Function to process text in blocks of 2\n",
    "def process_text(text, key_matrix, is_encrypt=True):\n",
    "    result = \"\"\n",
    "    # Pad the text if its length is not even\n",
    "    if len(text) % 2 != 0:\n",
    "        text += 'X'\n",
    "    for i in range(0, len(text), 2):\n",
    "        block = text[i:i+2]\n",
    "        if is_encrypt:\n",
    "            result += hill_encrypt_block(block, key_matrix)\n",
    "        else:\n",
    "            result += hill_decrypt_block(block, key_matrix)\n",
    "    return result"
   ]
  },
  {
   "cell_type": "code",
   "execution_count": 12,
   "id": "217cf251",
   "metadata": {},
   "outputs": [
    {
     "name": "stdout",
     "output_type": "stream",
     "text": [
      "Enter the plaintext (in uppercase, without spaces): HELP\n",
      "Enter the key matrix (2x2) values:\n",
      "Enter value for element [0][0]: 3\n",
      "Enter value for element [0][1]: 3\n",
      "Enter value for element [1][0]: 2\n",
      "Enter value for element [1][1]: 5\n",
      "Ciphertext: HIAT\n",
      "Decrypted text: HELP\n"
     ]
    }
   ],
   "source": [
    "# Function to check if the key matrix is invertible\n",
    "def is_invertible(matrix):\n",
    "    try:\n",
    "        matrix_inverse_2x2(matrix)\n",
    "        return True\n",
    "    except ValueError:\n",
    "        return False\n",
    "\n",
    "# Taking user input for plaintext\n",
    "plaintext = input(\"Enter the plaintext (in uppercase, without spaces): \").replace(\" \", \"\").upper()\n",
    "\n",
    "# Taking user input for the key matrix\n",
    "key_matrix = np.zeros((2, 2), dtype=int)\n",
    "while True:\n",
    "    print(\"Enter the key matrix (2x2) values:\")\n",
    "    for i in range(2):\n",
    "        for j in range(2):\n",
    "            key_matrix[i, j] = int(input(f\"Enter value for element [{i}][{j}]: \"))\n",
    "    if is_invertible(key_matrix):\n",
    "        break\n",
    "    else:\n",
    "        print(\"The key matrix is not invertible. Please enter a different key matrix.\")\n",
    "\n",
    "# Encrypting the plaintext\n",
    "ciphertext = process_text(plaintext, key_matrix, is_encrypt=True)\n",
    "print(\"Ciphertext:\", ciphertext)\n",
    "\n",
    "# Decrypting the ciphertext\n",
    "decrypted_text = process_text(ciphertext, key_matrix, is_encrypt=False)\n",
    "print(\"Decrypted text:\", decrypted_text)"
   ]
  },
  {
   "cell_type": "code",
   "execution_count": null,
   "id": "5a5d6721",
   "metadata": {},
   "outputs": [],
   "source": []
  }
 ],
 "metadata": {
  "kernelspec": {
   "display_name": "Python 3 (ipykernel)",
   "language": "python",
   "name": "python3"
  },
  "language_info": {
   "codemirror_mode": {
    "name": "ipython",
    "version": 3
   },
   "file_extension": ".py",
   "mimetype": "text/x-python",
   "name": "python",
   "nbconvert_exporter": "python",
   "pygments_lexer": "ipython3",
   "version": "3.9.12"
  }
 },
 "nbformat": 4,
 "nbformat_minor": 5
}
