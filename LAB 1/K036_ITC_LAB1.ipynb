{
 "cells": [
  {
   "cell_type": "markdown",
   "id": "356bfe4b",
   "metadata": {},
   "source": [
    "# INTRODUCTION TO CRYPTOGRAPHY LAB 1"
   ]
  },
  {
   "cell_type": "markdown",
   "id": "4f9ff9f3",
   "metadata": {},
   "source": [
    "## Arjun Mehta\n",
    "## K036\n",
    "## B. Tech CSE(Cybersecurity)"
   ]
  },
  {
   "cell_type": "code",
   "execution_count": 1,
   "id": "d5c99a22",
   "metadata": {},
   "outputs": [
    {
     "name": "stdout",
     "output_type": "stream",
     "text": [
      "Enter plain text: Arjun Mehta\n",
      "Enter Key: 3\n",
      "Encrypted text is: Dumxq Phkwd\n"
     ]
    }
   ],
   "source": [
    "#Encryption\n",
    "\n",
    "ptext = input(\"Enter plain text: \")\n",
    "key = int(input(\"Enter Key: \"))\n",
    "ptext = list(ptext)\n",
    "\n",
    "for i in range(len(ptext)):\n",
    "    ch = ptext[i]\n",
    "    \n",
    "    if 'a' <= ch <= 'z':\n",
    "        ch = chr(((ord(ch) - ord('a') + key) % 26) + ord('a'))\n",
    "        ptext[i] = ch\n",
    "    elif 'A' <= ch <= 'Z':\n",
    "        ch = chr(((ord(ch) - ord('A') + key) % 26) + ord('A'))\n",
    "        ptext[i] = ch\n",
    "\n",
    "encrypted_text = ''.join(ptext)\n",
    "print(\"Encrypted text is:\", encrypted_text)"
   ]
  },
  {
   "cell_type": "code",
   "execution_count": 2,
   "id": "f9ebe8ab",
   "metadata": {},
   "outputs": [
    {
     "name": "stdout",
     "output_type": "stream",
     "text": [
      "Enter cipher text: Dumxq Phkwd\n",
      "Enter Key: 3\n",
      "Decrypted text is: Arjun Mehta\n"
     ]
    }
   ],
   "source": [
    "#Decryption\n",
    "\n",
    "ctext = input(\"Enter cipher text: \")\n",
    "key = int(input(\"Enter Key: \"))\n",
    "ctext = list(ctext)\n",
    "\n",
    "for i in range(len(ctext)):\n",
    "    ch = ctext[i]\n",
    "    \n",
    "    if 'a' <= ch <= 'z':\n",
    "        ch = chr(((ord(ch) - ord('a') - key) % 26) + ord('a'))\n",
    "        ctext[i] = ch\n",
    "    elif 'A' <= ch <= 'Z':\n",
    "        ch = chr(((ord(ch) - ord('A') - key) % 26) + ord('A'))\n",
    "        ctext[i] = ch\n",
    "\n",
    "decrypted_text = ''.join(ctext)\n",
    "print(\"Decrypted text is:\", decrypted_text)"
   ]
  },
  {
   "cell_type": "code",
   "execution_count": 3,
   "id": "ba1dea96",
   "metadata": {},
   "outputs": [
    {
     "name": "stdout",
     "output_type": "stream",
     "text": [
      "Enter cipher text: Dumxq Phkwd\n",
      "Decrypted text for key=1 is: Ctlwp Ogjvc\n",
      "Decrypted text for key=2 is: Arjun Mehta\n",
      "Decrypted text for key=3 is: Xogrk Jbeqx\n",
      "Decrypted text for key=4 is: Tkcng Fxamt\n",
      "Decrypted text for key=5 is: Ofxib Asvho\n",
      "Decrypted text for key=6 is: Izrcv Umpbi\n",
      "Decrypted text for key=7 is: Bskvo Nfiub\n",
      "Decrypted text for key=8 is: Tkcng Fxamt\n",
      "Decrypted text for key=9 is: Kbtex Wordk\n",
      "Decrypted text for key=10 is: Arjun Mehta\n",
      "Decrypted text for key=11 is: Pgyjc Btwip\n",
      "Decrypted text for key=12 is: Dumxq Phkwd\n",
      "Decrypted text for key=13 is: Qhzkd Cuxjq\n",
      "Decrypted text for key=14 is: Ctlwp Ogjvc\n",
      "Decrypted text for key=15 is: Newha Zrugn\n",
      "Decrypted text for key=16 is: Xogrk Jbeqx\n",
      "Decrypted text for key=17 is: Gxpat Sknzg\n",
      "Decrypted text for key=18 is: Ofxib Asvho\n",
      "Decrypted text for key=19 is: Vmepi Hzcov\n",
      "Decrypted text for key=20 is: Bskvo Nfiub\n",
      "Decrypted text for key=21 is: Gxpat Sknzg\n",
      "Decrypted text for key=22 is: Kbtex Wordk\n",
      "Decrypted text for key=23 is: Newha Zrugn\n",
      "Decrypted text for key=24 is: Pgyjc Btwip\n",
      "Decrypted text for key=25 is: Qhzkd Cuxjq\n",
      "Decrypted text for key=26 is: Qhzkd Cuxjq\n"
     ]
    }
   ],
   "source": [
    "#Brute Force\n",
    "\n",
    "ctext = input(\"Enter cipher text: \")\n",
    "ctext = list(ctext)\n",
    "\n",
    "for key in range(26):\n",
    "    for i in range(len(ctext)):\n",
    "        ch = ctext[i]\n",
    "        \n",
    "        if 'a' <= ch <= 'z':\n",
    "            ch = chr(((ord(ch) - ord('a') - (key+1)) % 26) + ord('a'))\n",
    "            ctext[i] = ch\n",
    "        elif 'A' <= ch <= 'Z':\n",
    "            ch = chr(((ord(ch) - ord('A') - (key+1)) % 26) + ord('A'))\n",
    "            ctext[i] = ch\n",
    "    \n",
    "    decrypted_text = ''.join(ctext)\n",
    "    print(f\"Decrypted text for key={key+1} is: {decrypted_text}\")"
   ]
  },
  {
   "cell_type": "code",
   "execution_count": null,
   "id": "dc8edfdc",
   "metadata": {},
   "outputs": [],
   "source": []
  }
 ],
 "metadata": {
  "kernelspec": {
   "display_name": "Python 3 (ipykernel)",
   "language": "python",
   "name": "python3"
  },
  "language_info": {
   "codemirror_mode": {
    "name": "ipython",
    "version": 3
   },
   "file_extension": ".py",
   "mimetype": "text/x-python",
   "name": "python",
   "nbconvert_exporter": "python",
   "pygments_lexer": "ipython3",
   "version": "3.9.12"
  }
 },
 "nbformat": 4,
 "nbformat_minor": 5
}
